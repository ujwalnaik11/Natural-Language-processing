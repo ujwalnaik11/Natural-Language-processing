{
  "nbformat": 4,
  "nbformat_minor": 0,
  "metadata": {
    "colab": {
      "name": "Information Retrieval .ipynb",
      "provenance": [],
      "authorship_tag": "ABX9TyPmFR8phmykeCJUr0ff51G9"
    },
    "kernelspec": {
      "name": "python3",
      "display_name": "Python 3"
    },
    "language_info": {
      "name": "python"
    }
  },
  "cells": [
    {
      "cell_type": "code",
      "metadata": {
        "colab": {
          "base_uri": "https://localhost:8080/"
        },
        "id": "glt1Xg63IzNX",
        "outputId": "f5549374-f78b-48f3-dff9-8d62e7308558"
      },
      "source": [
        "import os\n",
        "import pandas as pd\n",
        "from ast import literal_eval\n",
        "\n",
        "from cdqa.utils.converters import pdf_converter\n",
        "from cdqa.pipeline import QAPipeline\n",
        "from cdqa.utils.download import download_model\n"
      ],
      "execution_count": null,
      "outputs": [
        {
          "output_type": "stream",
          "text": [
            "/usr/local/lib/python3.7/dist-packages/tqdm/autonotebook/__init__.py:18: TqdmExperimentalWarning: Using `tqdm.autonotebook.tqdm` in notebook mode. Use `tqdm.tqdm` instead to force console mode (e.g. in jupyter console)\n",
            "  \" (e.g. in jupyter console)\", TqdmExperimentalWarning)\n"
          ],
          "name": "stderr"
        }
      ]
    },
    {
      "cell_type": "code",
      "metadata": {
        "colab": {
          "base_uri": "https://localhost:8080/"
        },
        "id": "JzuIvOGHI1RV",
        "outputId": "03bb084b-fa8e-474d-e847-40fb6bf07768"
      },
      "source": [
        "download_model(model='bert-squad_1.1', dir='./models')"
      ],
      "execution_count": null,
      "outputs": [
        {
          "output_type": "stream",
          "text": [
            "\n",
            "Downloading trained model...\n"
          ],
          "name": "stdout"
        }
      ]
    },
    {
      "cell_type": "code",
      "metadata": {
        "colab": {
          "base_uri": "https://localhost:8080/"
        },
        "id": "l2rxFGzwJ61s",
        "outputId": "7eec1d6d-c5e7-4955-dfaf-aa7c3f0e122f"
      },
      "source": [
        "\n",
        "!ls models"
      ],
      "execution_count": null,
      "outputs": [
        {
          "output_type": "stream",
          "text": [
            "bert_qa.joblib\n"
          ],
          "name": "stdout"
        }
      ]
    },
    {
      "cell_type": "code",
      "metadata": {
        "id": "ESAiTsq4KCNR"
      },
      "source": [
        "!mkdir docs"
      ],
      "execution_count": null,
      "outputs": []
    },
    {
      "cell_type": "code",
      "metadata": {
        "colab": {
          "base_uri": "https://localhost:8080/"
        },
        "id": "URMVvh90KJdp",
        "outputId": "4afd9037-8200-4997-9fc4-24f8c572b35c"
      },
      "source": [
        "!wget -P ./docs/ https://s2.q4cdn.com/299287126/files/doc_financials/2020/q3/AMZN-Q3-2020-Earnings-Release.pdf\n",
        "!wget -P ./docs/ https://s2.q4cdn.com/299287126/files/doc_financials/2020/q2/Q2-2020-Amazon-Earnings-Release.pdf\n",
        "!wget -P ./docs/ https://s2.q4cdn.com/299287126/files/doc_financials/2020/Q1/AMZN-Q1-2020-Earnings-Release.pdf\n",
        "!wget -P ./docs/ https://s2.q4cdn.com/299287126/files/doc_news/archive/Amazon-Q4-2019-Earnings-Release.pdf\n",
        "!wget -P ./docs/ https://s2.q4cdn.com/299287126/files/doc_news/archive/Q3-2019-Amazon-Financial-Results.pdf"
      ],
      "execution_count": null,
      "outputs": [
        {
          "output_type": "stream",
          "text": [
            "--2021-07-30 11:24:57--  https://s2.q4cdn.com/299287126/files/doc_financials/2020/q3/AMZN-Q3-2020-Earnings-Release.pdf\n",
            "Resolving s2.q4cdn.com (s2.q4cdn.com)... 68.70.205.1, 68.70.205.4, 68.70.205.3, ...\n",
            "Connecting to s2.q4cdn.com (s2.q4cdn.com)|68.70.205.1|:443... connected.\n",
            "HTTP request sent, awaiting response... 200 OK\n",
            "Length: 945573 (923K) [application/pdf]\n",
            "Saving to: ‘./docs/AMZN-Q3-2020-Earnings-Release.pdf’\n",
            "\n",
            "\r          AMZN-Q3-2   0%[                    ]       0  --.-KB/s               \rAMZN-Q3-2020-Earnin 100%[===================>] 923.41K  --.-KB/s    in 0.07s   \n",
            "\n",
            "2021-07-30 11:24:57 (13.8 MB/s) - ‘./docs/AMZN-Q3-2020-Earnings-Release.pdf’ saved [945573/945573]\n",
            "\n",
            "--2021-07-30 11:24:57--  https://s2.q4cdn.com/299287126/files/doc_financials/2020/q2/Q2-2020-Amazon-Earnings-Release.pdf\n",
            "Resolving s2.q4cdn.com (s2.q4cdn.com)... 68.70.205.1, 68.70.205.4, 68.70.205.3, ...\n",
            "Connecting to s2.q4cdn.com (s2.q4cdn.com)|68.70.205.1|:443... connected.\n",
            "HTTP request sent, awaiting response... 200 OK\n",
            "Length: 366951 (358K) [application/pdf]\n",
            "Saving to: ‘./docs/Q2-2020-Amazon-Earnings-Release.pdf’\n",
            "\n",
            "Q2-2020-Amazon-Earn 100%[===================>] 358.35K  --.-KB/s    in 0.05s   \n",
            "\n",
            "2021-07-30 11:24:57 (6.51 MB/s) - ‘./docs/Q2-2020-Amazon-Earnings-Release.pdf’ saved [366951/366951]\n",
            "\n",
            "--2021-07-30 11:24:57--  https://s2.q4cdn.com/299287126/files/doc_financials/2020/Q1/AMZN-Q1-2020-Earnings-Release.pdf\n",
            "Resolving s2.q4cdn.com (s2.q4cdn.com)... 68.70.205.1, 68.70.205.4, 68.70.205.3, ...\n",
            "Connecting to s2.q4cdn.com (s2.q4cdn.com)|68.70.205.1|:443... connected.\n",
            "HTTP request sent, awaiting response... 200 OK\n",
            "Length: 536732 (524K) [application/pdf]\n",
            "Saving to: ‘./docs/AMZN-Q1-2020-Earnings-Release.pdf’\n",
            "\n",
            "AMZN-Q1-2020-Earnin 100%[===================>] 524.15K  --.-KB/s    in 0.05s   \n",
            "\n",
            "2021-07-30 11:24:57 (9.53 MB/s) - ‘./docs/AMZN-Q1-2020-Earnings-Release.pdf’ saved [536732/536732]\n",
            "\n",
            "--2021-07-30 11:24:57--  https://s2.q4cdn.com/299287126/files/doc_news/archive/Amazon-Q4-2019-Earnings-Release.pdf\n",
            "Resolving s2.q4cdn.com (s2.q4cdn.com)... 68.70.205.1, 68.70.205.4, 68.70.205.3, ...\n",
            "Connecting to s2.q4cdn.com (s2.q4cdn.com)|68.70.205.1|:443... connected.\n",
            "HTTP request sent, awaiting response... 200 OK\n",
            "Length: 637064 (622K) [application/pdf]\n",
            "Saving to: ‘./docs/Amazon-Q4-2019-Earnings-Release.pdf’\n",
            "\n",
            "Amazon-Q4-2019-Earn 100%[===================>] 622.13K  --.-KB/s    in 0.06s   \n",
            "\n",
            "2021-07-30 11:24:57 (10.8 MB/s) - ‘./docs/Amazon-Q4-2019-Earnings-Release.pdf’ saved [637064/637064]\n",
            "\n",
            "--2021-07-30 11:24:58--  https://s2.q4cdn.com/299287126/files/doc_news/archive/Q3-2019-Amazon-Financial-Results.pdf\n",
            "Resolving s2.q4cdn.com (s2.q4cdn.com)... 68.70.205.1, 68.70.205.4, 68.70.205.3, ...\n",
            "Connecting to s2.q4cdn.com (s2.q4cdn.com)|68.70.205.1|:443... connected.\n",
            "HTTP request sent, awaiting response... 200 OK\n",
            "Length: 545031 (532K) [application/pdf]\n",
            "Saving to: ‘./docs/Q3-2019-Amazon-Financial-Results.pdf’\n",
            "\n",
            "Q3-2019-Amazon-Fina 100%[===================>] 532.26K  --.-KB/s    in 0.1s    \n",
            "\n",
            "2021-07-30 11:24:58 (3.77 MB/s) - ‘./docs/Q3-2019-Amazon-Financial-Results.pdf’ saved [545031/545031]\n",
            "\n"
          ],
          "name": "stdout"
        }
      ]
    },
    {
      "cell_type": "code",
      "metadata": {
        "id": "8Tk5n_-AKQAO"
      },
      "source": [
        "df = pdf_converter(directory_path='./docs/')"
      ],
      "execution_count": null,
      "outputs": []
    },
    {
      "cell_type": "code",
      "metadata": {
        "colab": {
          "base_uri": "https://localhost:8080/"
        },
        "id": "861OhxMLLKYi",
        "outputId": "1c93c4d6-2467-4ec2-91cd-073b45dcac8f"
      },
      "source": [
        "cdqa_pipeline = QAPipeline(reader='./models/bert_qa.joblib', max_df=1.0)\n",
        "\n",
        "cdqa_pipeline.fit_retriever(df=df)"
      ],
      "execution_count": null,
      "outputs": [
        {
          "output_type": "stream",
          "text": [
            "100%|██████████| 231508/231508 [00:00<00:00, 2762017.67B/s]\n"
          ],
          "name": "stderr"
        },
        {
          "output_type": "execute_result",
          "data": {
            "text/plain": [
              "QAPipeline(reader=BertQA(adam_epsilon=1e-08, bert_model='bert-base-uncased',\n",
              "                         do_lower_case=True, fp16=False,\n",
              "                         gradient_accumulation_steps=1, learning_rate=5e-05,\n",
              "                         local_rank=-1, loss_scale=0, max_answer_length=30,\n",
              "                         n_best_size=20, no_cuda=False,\n",
              "                         null_score_diff_threshold=0.0, num_train_epochs=3.0,\n",
              "                         output_dir=None, predict_batch_size=8, seed=42,\n",
              "                         server_ip='', server_po..._size=8,\n",
              "                         verbose_logging=False, version_2_with_negative=False,\n",
              "                         warmup_proportion=0.1, warmup_steps=0),\n",
              "           retrieve_by_doc=False,\n",
              "           retriever=BM25Retriever(b=0.75, floor=None, k1=2.0, lowercase=True,\n",
              "                                   max_df=1.0, min_df=2, ngram_range=(1, 2),\n",
              "                                   preprocessor=None, stop_words='english',\n",
              "                                   token_pattern='(?u)\\\\b\\\\w\\\\w+\\\\b',\n",
              "                                   tokenizer=None, top_n=20, verbose=False,\n",
              "                                   vocabulary=None))"
            ]
          },
          "metadata": {
            "tags": []
          },
          "execution_count": 15
        }
      ]
    },
    {
      "cell_type": "code",
      "metadata": {
        "colab": {
          "base_uri": "https://localhost:8080/"
        },
        "id": "zkgJbnIyLixR",
        "outputId": "d72158fe-7d6a-4b67-aaf9-594685538553"
      },
      "source": [
        "import joblib\n",
        "joblib.dump(cdqa_pipeline, './models/bert_qa_custom.joblib')"
      ],
      "execution_count": null,
      "outputs": [
        {
          "output_type": "execute_result",
          "data": {
            "text/plain": [
              "['./models/bert_qa_custom.joblib']"
            ]
          },
          "metadata": {
            "tags": []
          },
          "execution_count": 16
        }
      ]
    },
    {
      "cell_type": "code",
      "metadata": {
        "colab": {
          "base_uri": "https://localhost:8080/"
        },
        "id": "X5ikR9LcMGRr",
        "outputId": "a1941a32-fd6e-4f12-86e7-16767f536c6e"
      },
      "source": [
        "\n",
        "cdqa_pipeline=joblib.load('./models/bert_qa_custom.joblib')\n",
        "cdqa_pipeline"
      ],
      "execution_count": null,
      "outputs": [
        {
          "output_type": "execute_result",
          "data": {
            "text/plain": [
              "QAPipeline(reader=BertQA(adam_epsilon=1e-08, bert_model='bert-base-uncased',\n",
              "                         do_lower_case=True, fp16=False,\n",
              "                         gradient_accumulation_steps=1, learning_rate=5e-05,\n",
              "                         local_rank=-1, loss_scale=0, max_answer_length=30,\n",
              "                         n_best_size=20, no_cuda=False,\n",
              "                         null_score_diff_threshold=0.0, num_train_epochs=3.0,\n",
              "                         output_dir=None, predict_batch_size=8, seed=42,\n",
              "                         server_ip='', server_po..._size=8,\n",
              "                         verbose_logging=False, version_2_with_negative=False,\n",
              "                         warmup_proportion=0.1, warmup_steps=0),\n",
              "           retrieve_by_doc=False,\n",
              "           retriever=BM25Retriever(b=0.75, floor=None, k1=2.0, lowercase=True,\n",
              "                                   max_df=1.0, min_df=2, ngram_range=(1, 2),\n",
              "                                   preprocessor=None, stop_words='english',\n",
              "                                   token_pattern='(?u)\\\\b\\\\w\\\\w+\\\\b',\n",
              "                                   tokenizer=None, top_n=20, verbose=False,\n",
              "                                   vocabulary=None))"
            ]
          },
          "metadata": {
            "tags": []
          },
          "execution_count": 17
        }
      ]
    },
    {
      "cell_type": "code",
      "metadata": {
        "id": "8PgPHNWNMLeG"
      },
      "source": [
        "\n",
        "query = 'How many jobs are created in 2020?'\n",
        "prediction = cdqa_pipeline.predict(query)"
      ],
      "execution_count": null,
      "outputs": []
    },
    {
      "cell_type": "code",
      "metadata": {
        "colab": {
          "base_uri": "https://localhost:8080/"
        },
        "id": "4gyCodjHMQg3",
        "outputId": "058c12b7-f308-4315-efed-54a95330a6e9"
      },
      "source": [
        "prediction"
      ],
      "execution_count": null,
      "outputs": [
        {
          "output_type": "execute_result",
          "data": {
            "text/plain": [
              "('1.1 million',\n",
              " 'Q2-2020-Amazon-Earnings-Release',\n",
              " 'Empowering Small and Medium-Sized Businesses• Amazon released its 2020 Small and Medium-Sized Business (SMB) Impact Report, highlighting how SMBs selling in its U.S. store have sold more than 3.4 billion products in the past year and created an estimated 1.1 million jobs.• In partnership with the British small business support network “Enterprise Nation,” Amazon launched the Amazon Small Business Accelerator, which aims to support more than 200,000 small businesses across the U.K. negatively impacted by the COVID-19 crisis. Amazon hosted a week-long boot camp in the U.K. to help 1,000 offline businesses get online, and offered free services, AWS credits, training, and support.• In the U.K., Amazon worked with the British Chambers of Commerce to give up to 1,000 businesses tours of Amazon fulfillment centers, helping other companies learn from the safety measures Amazon has put in place within its own operations so the businesses can re-open safely and kick-start the economy.• Amazon in Japan launched Global Selling to allow Japanese sellers to reach new customers across 16 Amazon sites worldwide. • Amazon in India announced plans to help digitally enable micro, small, and medium businesses across the country as part of a $1 billion investment pledge. Amazon launched Local Shops on Amazon.in, offering shopkeepers and retailers with physical stores the ability to register to serve more customers from their local areas. Since launch, more than 11,000 sellers have enrolled in the program. In addition, Amazon introduced seller registration and account management services in Hindi to help businesses overcome language barriers. Since launch, more than 10,000 sellers have used Hindi to register on Amazon.in. ',\n",
              " 12.552233294940805)"
            ]
          },
          "metadata": {
            "tags": []
          },
          "execution_count": 21
        }
      ]
    },
    {
      "cell_type": "code",
      "metadata": {
        "colab": {
          "base_uri": "https://localhost:8080/"
        },
        "id": "TtsdJ-2UMi0E",
        "outputId": "a5070e9c-6768-434d-f567-c2a0ff450444"
      },
      "source": [
        "print('query: {}'.format(query))\n",
        "print('answer: {}'.format(prediction[0]))\n",
        "print('title: {}'.format(prediction[1]))\n",
        "print('paragraph: {}'.format(prediction[2]))"
      ],
      "execution_count": null,
      "outputs": [
        {
          "output_type": "stream",
          "text": [
            "query: How many jobs are created in 2020?\n",
            "answer: 1.1 million\n",
            "title: Q2-2020-Amazon-Earnings-Release\n",
            "paragraph: Empowering Small and Medium-Sized Businesses• Amazon released its 2020 Small and Medium-Sized Business (SMB) Impact Report, highlighting how SMBs selling in its U.S. store have sold more than 3.4 billion products in the past year and created an estimated 1.1 million jobs.• In partnership with the British small business support network “Enterprise Nation,” Amazon launched the Amazon Small Business Accelerator, which aims to support more than 200,000 small businesses across the U.K. negatively impacted by the COVID-19 crisis. Amazon hosted a week-long boot camp in the U.K. to help 1,000 offline businesses get online, and offered free services, AWS credits, training, and support.• In the U.K., Amazon worked with the British Chambers of Commerce to give up to 1,000 businesses tours of Amazon fulfillment centers, helping other companies learn from the safety measures Amazon has put in place within its own operations so the businesses can re-open safely and kick-start the economy.• Amazon in Japan launched Global Selling to allow Japanese sellers to reach new customers across 16 Amazon sites worldwide. • Amazon in India announced plans to help digitally enable micro, small, and medium businesses across the country as part of a $1 billion investment pledge. Amazon launched Local Shops on Amazon.in, offering shopkeepers and retailers with physical stores the ability to register to serve more customers from their local areas. Since launch, more than 11,000 sellers have enrolled in the program. In addition, Amazon introduced seller registration and account management services in Hindi to help businesses overcome language barriers. Since launch, more than 10,000 sellers have used Hindi to register on Amazon.in. \n"
          ],
          "name": "stdout"
        }
      ]
    },
    {
      "cell_type": "code",
      "metadata": {
        "id": "rEtgElDfNPAC"
      },
      "source": [
        "query = 'How many full time employees are on Amazon roll?'\n",
        "prediction = cdqa_pipeline.predict(query)"
      ],
      "execution_count": null,
      "outputs": []
    },
    {
      "cell_type": "code",
      "metadata": {
        "colab": {
          "base_uri": "https://localhost:8080/"
        },
        "id": "nddvkDVcNYnQ",
        "outputId": "fbfcecc7-52f7-43ff-a553-b74fc1349c0b"
      },
      "source": [
        "print('query: {}'.format(query))\n",
        "print('answer: {}'.format(prediction[0]))\n",
        "print('title: {}'.format(prediction[1]))\n",
        "print('paragraph: {}'.format(prediction[2]))"
      ],
      "execution_count": null,
      "outputs": [
        {
          "output_type": "stream",
          "text": [
            "query: How many full time employees are on Amazon roll?\n",
            "answer: 650,000\n",
            "title: Q2-2020-Amazon-Earnings-Release\n",
            "paragraph: Supporting Employees• Amazon’s top priority is providing for the health and safety of our employees and partners, and the company spent more than $4 billion in the second quarter on incremental COVID-19 related initiatives to help keep employees safe, provide additional compensation to our employees and delivery partners, and deliver products to customers.• Amazon provided a one-time Thank You bonus totaling over $500 million to all front-line employees and partners who were with the company throughout the month of June.• Amazon introduced a new family backup care benefit through Care.com to 650,000 full and part-time Amazon and Whole Foods Market employees in the U.S. This benefit provides employees with up to 10 days of company-subsidized emergency backup child or adult care.• Amazon introduced Distance Assistant to help keep employees safe by providing them with live feedback on their social distancing via a 50-inch monitor. Amazon made the software and AI behind this innovation available via open source so that anyone can create their own Distance Assistant at no cost and get up and running with just a monitor, computer, and camera.• Amazon is collaborating with national medical care group Crossover Health to pilot Amazon Neighborhood Health Centers, which are new medical facilities available to Amazon employees and their families. The centers will provide access to quality, convenient care while reducing health care costs for employees and Amazon. The pilot includes 20 Crossover Health branded and operated centers in Dallas/Fort Worth, Texas; Phoenix, Arizona; Louisville, Kentucky; Detroit, Michigan; and San Bernardino/Moreno Valley, California.\n"
          ],
          "name": "stdout"
        }
      ]
    },
    {
      "cell_type": "code",
      "metadata": {
        "id": "Ii3mP15cN5yP"
      },
      "source": [
        "query = 'What is the impact of COVID on business?'\n",
        "prediction = cdqa_pipeline.predict(query, n_predictions=5)"
      ],
      "execution_count": null,
      "outputs": []
    },
    {
      "cell_type": "code",
      "metadata": {
        "colab": {
          "base_uri": "https://localhost:8080/"
        },
        "id": "-IZCBafgOFu-",
        "outputId": "3a0ca2fc-9fcd-43a4-afb5-e003c4155448"
      },
      "source": [
        "\n",
        "print('query: {}'.format(query))\n",
        "print('answer: {}'.format(prediction[0]))\n",
        "print('title: {}'.format(prediction[1]))\n",
        "print('paragraph: {}'.format(prediction[2]))"
      ],
      "execution_count": null,
      "outputs": [
        {
          "output_type": "stream",
          "text": [
            "query: What is the impact of COVID on business?\n",
            "answer: ('negatively impacted by the COVID-19 crisis', 'Q2-2020-Amazon-Earnings-Release', 'Empowering Small and Medium-Sized Businesses• Amazon released its 2020 Small and Medium-Sized Business (SMB) Impact Report, highlighting how SMBs selling in its U.S. store have sold more than 3.4 billion products in the past year and created an estimated 1.1 million jobs.• In partnership with the British small business support network “Enterprise Nation,” Amazon launched the Amazon Small Business Accelerator, which aims to support more than 200,000 small businesses across the U.K. negatively impacted by the COVID-19 crisis. Amazon hosted a week-long boot camp in the U.K. to help 1,000 offline businesses get online, and offered free services, AWS credits, training, and support.• In the U.K., Amazon worked with the British Chambers of Commerce to give up to 1,000 businesses tours of Amazon fulfillment centers, helping other companies learn from the safety measures Amazon has put in place within its own operations so the businesses can re-open safely and kick-start the economy.• Amazon in Japan launched Global Selling to allow Japanese sellers to reach new customers across 16 Amazon sites worldwide. • Amazon in India announced plans to help digitally enable micro, small, and medium businesses across the country as part of a $1 billion investment pledge. Amazon launched Local Shops on Amazon.in, offering shopkeepers and retailers with physical stores the ability to register to serve more customers from their local areas. Since launch, more than 11,000 sellers have enrolled in the program. In addition, Amazon introduced seller registration and account management services in Hindi to help businesses overcome language barriers. Since launch, more than 10,000 sellers have used Hindi to register on Amazon.in. ', 5.994344867232075)\n",
            "title: ('lessen the impact that COVID-19 has on families, communities, and businesses', 'AMZN-Q1-2020-Earnings-Release', 'Amazon Small Business Academy to help entrepreneurs learn how to build their businesses online. •  AWS is helping healthcare workers, medical researchers, scientists, and public health officials working to understand and fight COVID-19 by providing a centralized repository of curated, up-to-date, pre-processed, and publicly-readable datasets focused on the spread and characteristics of the virus. The AWS COVID-19 data lake, which includes data sets from Johns Hopkins University, Definitive Healthcare, Carnegie Mellon’s Delphi Research Group, and other sources, is available for anyone researching, tracking, deploying vital resources, or developing other helpful solutions and applications to combat COVID-19.   •  AWS is supporting the White House’s COVID-19 High Performance Computing Consortium, providing computing resources to advance research on diagnosis, treatment, and vaccines. •  Customers are using AWS to lessen the impact that COVID-19 has on families, communities, and businesses. Examples include: •  The New York City COVID-19 Rapid Response Coalition is using a conversational agent, which is running on AWS, to enable at-risk, elderly New Yorkers to receive accurate, timely information about medical needs.  •  The Los Angeles Unified School District is using AWS to power a new call center that is fielding IT questions, providing remote support, and enabling staff to answer calls around remote learning for 700,000 students.  •  Volunteer Surge, a nonprofit consortium, is running its online training platform on AWS to recruit, train, and deploy one million volunteer health workers. •  The World Health Organization is using AWS to build large-scale data lakes, aggregate epidemiological country data, rapidly translate medical training videos into different languages, and help global healthcare workers better treat patients. •  Cerner, a global healthcare technology company, is compiling de-identified patient data to help COVID-19 researchers and is leveraging AWS to secure and store critical information. The data is available free of charge and will support research, vaccine development, and new treatment options, allowing organizations to share information and accelerate understanding of the virus.  •  In England, the National Health Service is using AWS to analyze hospital occupancy levels, emergency room capacity, and patient wait times in order to help decide where best to allocate resources. •  AWS is helping Kentucky and West Virginia authorities address the surge in call volumes to unemployment call centers by transitioning from legacy technology that often required agents to work in the states’ offices to ', 5.076032065563091)\n",
            "paragraph: ('no additional business acquisitions, investments, restructurings, or legal settlements are concluded.', 'Q2-2020-Amazon-Earnings-Release', 'Third Quarter 2020 Guidance• Net sales are expected to be between $87.0 billion and $93.0 billion, or to grow between 24% and 33% compared with third quarter 2019. This guidance anticipates an unfavorable impact of approximately 20 basis points from foreign exchange rates. • Operating income is expected to be between $2.0 billion and $5.0 billion, compared with $3.2 billion in third quarter 2019. This guidance assumes more than $2.0 billion of costs related to COVID-19. • This guidance assumes, among other things, that no additional business acquisitions, investments, restructurings, or legal settlements are concluded.', 4.453576472488432)\n"
          ],
          "name": "stdout"
        }
      ]
    },
    {
      "cell_type": "code",
      "metadata": {
        "id": "TEv-4fkgUhOW"
      },
      "source": [
        ""
      ],
      "execution_count": 1,
      "outputs": []
    },
    {
      "cell_type": "code",
      "metadata": {
        "id": "d0Xac2nVaczm"
      },
      "source": [
        ""
      ],
      "execution_count": null,
      "outputs": []
    }
  ]
}